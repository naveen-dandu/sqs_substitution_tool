{
 "cells": [
  {
   "cell_type": "markdown",
   "metadata": {},
   "source": [
    "# 🔬 SQS Substitution Demo\n",
    "This notebook demonstrates atom substitution using pymatgen."
   ]
  },
  {
   "cell_type": "code",
   "execution_count": null,
   "metadata": {},
   "outputs": [],
   "source": [
    "from pymatgen.core import Structure\n",
    "from pymatgen.analysis.structure_matcher import StructureMatcher\n",
    "s1 = Structure.from_file('../examples/POSCAR_CoBHT')\n",
    "s2 = Structure.from_file('../examples/POSCAR_substituted')\n",
    "matcher = StructureMatcher()\n",
    "score = matcher.get_rms_dist(s1, s2)\n",
    "print(f'RMS displacement between original and substituted = {score:.3f} Å')"
   ]
  }
 ],
 "metadata": {
  "kernelspec": {
   "display_name": "Python 3",
   "language": "python",
   "name": "python3"
  },
  "language_info": {
   "name": "python",
   "version": ""
  }
 },
 "nbformat": 4,
 "nbformat_minor": 5
}