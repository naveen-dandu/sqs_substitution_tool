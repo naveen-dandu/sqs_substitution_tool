{
 "cells": [
  {
   "cell_type": "markdown",
   "id": "18aa47f9",
   "metadata": {},
   "source": [
    "# Example Usage: `sqs_substitution_tool`\n",
    "\n",
    "This notebook demonstrates how to perform random substitution on a VASP POSCAR structure using the `sqs_substitution_tool` package."
   ]
  },
  {
   "cell_type": "code",
   "execution_count": null,
   "id": "9186cbcc",
   "metadata": {},
   "outputs": [],
   "source": [
    "\n",
    "from pymatgen.core import Structure\n",
    "from pymatgen.io.vasp import Poscar\n",
    "import random\n",
    "\n",
    "# Load example Co-BHT structure\n",
    "structure = Structure.from_file(\"../POSCAR_CoBHT\")  # Ensure POSCAR_CoBHT exists here\n",
    "\n",
    "# Show initial summary\n",
    "structure\n"
   ]
  },
  {
   "cell_type": "markdown",
   "id": "4778a44d",
   "metadata": {},
   "source": [
    "### Substitution Setup\n",
    "Let's replace 4 Co atoms with Ni randomly."
   ]
  },
  {
   "cell_type": "code",
   "execution_count": null,
   "id": "7130b55e",
   "metadata": {},
   "outputs": [],
   "source": [
    "\n",
    "# Identify indices of Co atoms\n",
    "co_indices = [i for i, site in enumerate(structure) if site.specie.symbol == \"Co\"]\n",
    "print(f\"Found {len(co_indices)} Co atoms.\")\n",
    "\n",
    "# Choose 4 to substitute with Ni\n",
    "replace_indices = random.sample(co_indices, 4)\n",
    "for i in replace_indices:\n",
    "    structure[i].species = \"Ni\"\n",
    "\n",
    "# Save modified structure\n",
    "Poscar(structure).write_file(\"POSCAR_CoNiBHT\")\n",
    "print(\"Modified POSCAR saved as POSCAR_CoNiBHT\")\n"
   ]
  },
  {
   "cell_type": "markdown",
   "id": "0da06a6d",
   "metadata": {},
   "source": [
    "### Visualization (optional)"
   ]
  },
  {
   "cell_type": "code",
   "execution_count": null,
   "id": "b4e51d7a",
   "metadata": {},
   "outputs": [],
   "source": [
    "\n",
    "# Optional: Visualize with pymatgen\n",
    "structure.to(fmt='poscar', filename='tmp_poscar')\n",
    "structure\n"
   ]
  },
  {
   "cell_type": "markdown",
   "id": "941562c5",
   "metadata": {},
   "source": [
    "### SQS Scoring Using pymatgen"
   ]
  },
  {
   "cell_type": "code",
   "execution_count": null,
   "id": "7dcf7ca1",
   "metadata": {},
   "outputs": [],
   "source": [
    "\n",
    "from pymatgen.analysis.structure_matcher import StructureMatcher\n",
    "from pymatgen.core import Structure\n",
    "\n",
    "# Load original and substituted structures\n",
    "original = Structure.from_file(\"../POSCAR_CoBHT\")\n",
    "modified = Structure.from_file(\"POSCAR_CoNiBHT\")\n",
    "\n",
    "# Score similarity using pymatgen's StructureMatcher\n",
    "matcher = StructureMatcher()\n",
    "similar = matcher.fit(original, modified)\n",
    "print(\"Structures are similar:\", similar)\n",
    "\n",
    "# SQS Score: RMS displacement of matched atoms\n",
    "if similar:\n",
    "    rms = matcher.get_rms_dist(original, modified)\n",
    "    print(\"RMS displacement score:\", rms)\n"
   ]
  }
 ],
 "metadata": {},
 "nbformat": 4,
 "nbformat_minor": 5
}
